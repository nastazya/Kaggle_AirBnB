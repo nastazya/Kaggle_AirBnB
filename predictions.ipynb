{
 "cells": [
  {
   "cell_type": "code",
   "execution_count": 1,
   "metadata": {},
   "outputs": [],
   "source": [
    "# import the library\n",
    "%matplotlib inline\n",
    "\n",
    "import pandas as pd\n",
    "import numpy as np\n",
    "import matplotlib.pyplot as plt\n",
    "import seaborn as sns\n",
    "\n",
    "# sklearn :: utils\n",
    "from sklearn.model_selection import train_test_split\n",
    "from sklearn.model_selection import KFold\n",
    "\n",
    "# sklearn :: models\n",
    "from sklearn.linear_model import LinearRegression\n",
    "from sklearn.ensemble import RandomForestRegressor\n",
    "from sklearn.neighbors import KNeighborsRegressor\n",
    "from sklearn.tree import DecisionTreeRegressor\n",
    "from sklearn.svm import SVR\n",
    "from sklearn.linear_model import Lasso\n",
    "from sklearn.linear_model import SGDRegressor\n",
    "from sklearn.gaussian_process import GaussianProcessRegressor\n",
    "from sklearn.ensemble import GradientBoostingRegressor\n",
    "from sklearn.linear_model import Ridge\n",
    "\n",
    "# sklearn :: evaluation metrics\n",
    "from sklearn.metrics import mean_absolute_error\n",
    "from sklearn.metrics import mean_squared_error\n",
    "\n",
    "from sklearn.preprocessing import normalize\n",
    "\n",
    "from sklearn.model_selection import cross_val_score\n",
    "\n",
    "sns.set_style('whitegrid')"
   ]
  },
  {
   "cell_type": "markdown",
   "metadata": {},
   "source": [
    "# Problem definition"
   ]
  },
  {
   "cell_type": "markdown",
   "metadata": {},
   "source": [
    "Apply regression models to predict Airbnb prices"
   ]
  },
  {
   "cell_type": "markdown",
   "metadata": {},
   "source": [
    "# Load the data"
   ]
  },
  {
   "cell_type": "code",
   "execution_count": 2,
   "metadata": {
    "scrolled": false
   },
   "outputs": [
    {
     "name": "stdout",
     "output_type": "stream",
     "text": [
      "Number of NAN per feature in df_train: \n",
      " id                   0\n",
      "accommodates         0\n",
      "bedrooms             0\n",
      "cleaning_fee         0\n",
      "number_of_reviews    0\n",
      "bathrooms            0\n",
      "log_price            0\n",
      "Cahuenga Pass        0\n",
      "Williamsburg         0\n",
      "East Harlem          0\n",
      "U Street Corridor    0\n",
      "Hollywood Hills      0\n",
      "Manhattan Beach      0\n",
      "Fenway/Kenmore       0\n",
      "West Adams           0\n",
      "South End            0\n",
      "East Boston          0\n",
      "West Hollywood       0\n",
      "Greenwich Village    0\n",
      "Alphabet City        0\n",
      "Lincoln Heights      0\n",
      "North Hollywood      0\n",
      "Pacific Palisades    0\n",
      "West Los Angeles     0\n",
      "Chinatown            0\n",
      "Flatiron District    0\n",
      "Westwood             0\n",
      "Sunnyside            0\n",
      "Richmond District    0\n",
      "Hollywood            0\n",
      "                    ..\n",
      "60614                0\n",
      "60610                0\n",
      "60608                0\n",
      "11231                0\n",
      "10460                0\n",
      "02114                0\n",
      "90015                0\n",
      "11222                0\n",
      "90266                0\n",
      "10010                0\n",
      "10023                0\n",
      "90247                0\n",
      "90272                0\n",
      "10029                0\n",
      "11217                0\n",
      "90046                0\n",
      "11106                0\n",
      "10280                0\n",
      "Loft                 0\n",
      "Boat                 0\n",
      "Camper/RV            0\n",
      "Townhouse            0\n",
      "Condominium          0\n",
      "House                0\n",
      "Other                0\n",
      "Apartment            0\n",
      "Boutique hotel       0\n",
      "Bed & Breakfast      0\n",
      "Guesthouse           0\n",
      "dist_metro           0\n",
      "Length: 322, dtype: int64\n",
      "Number of NAN per feature in df_test: \n",
      " id                   0\n",
      "accommodates         0\n",
      "bedrooms             0\n",
      "cleaning_fee         0\n",
      "number_of_reviews    0\n",
      "bathrooms            0\n",
      "Cahuenga Pass        0\n",
      "Williamsburg         0\n",
      "East Harlem          0\n",
      "U Street Corridor    0\n",
      "Hollywood Hills      0\n",
      "Manhattan Beach      0\n",
      "Fenway/Kenmore       0\n",
      "West Adams           0\n",
      "South End            0\n",
      "East Boston          0\n",
      "West Hollywood       0\n",
      "Greenwich Village    0\n",
      "Alphabet City        0\n",
      "Lincoln Heights      0\n",
      "North Hollywood      0\n",
      "Pacific Palisades    0\n",
      "West Los Angeles     0\n",
      "Chinatown            0\n",
      "Flatiron District    0\n",
      "Westwood             0\n",
      "Sunnyside            0\n",
      "Richmond District    0\n",
      "Hollywood            0\n",
      "Allston-Brighton     0\n",
      "                    ..\n",
      "60614                0\n",
      "60610                0\n",
      "60608                0\n",
      "11231                0\n",
      "10460                0\n",
      "02114                0\n",
      "90015                0\n",
      "11222                0\n",
      "90266                0\n",
      "10010                0\n",
      "10023                0\n",
      "90247                0\n",
      "90272                0\n",
      "10029                0\n",
      "11217                0\n",
      "90046                0\n",
      "11106                0\n",
      "10280                0\n",
      "Loft                 0\n",
      "Boat                 0\n",
      "Camper/RV            0\n",
      "Townhouse            0\n",
      "Condominium          0\n",
      "House                0\n",
      "Other                0\n",
      "Apartment            0\n",
      "Boutique hotel       0\n",
      "Bed & Breakfast      0\n",
      "Guesthouse           0\n",
      "dist_metro           0\n",
      "Length: 321, dtype: int64\n",
      "Columns in df_train: \n",
      " Index(['id', 'accommodates', 'bedrooms', 'cleaning_fee', 'number_of_reviews',\n",
      "       'bathrooms', 'log_price', 'Cahuenga Pass', 'Williamsburg',\n",
      "       'East Harlem',\n",
      "       ...\n",
      "       'Camper/RV', 'Townhouse', 'Condominium', 'House', 'Other', 'Apartment',\n",
      "       'Boutique hotel', 'Bed & Breakfast', 'Guesthouse', 'dist_metro'],\n",
      "      dtype='object', length=322)\n",
      "Columns in df_test: \n",
      " Index(['id', 'accommodates', 'bedrooms', 'cleaning_fee', 'number_of_reviews',\n",
      "       'bathrooms', 'Cahuenga Pass', 'Williamsburg', 'East Harlem',\n",
      "       'U Street Corridor',\n",
      "       ...\n",
      "       'Camper/RV', 'Townhouse', 'Condominium', 'House', 'Other', 'Apartment',\n",
      "       'Boutique hotel', 'Bed & Breakfast', 'Guesthouse', 'dist_metro'],\n",
      "      dtype='object', length=321)\n"
     ]
    }
   ],
   "source": [
    "df_train = pd.read_csv('data/train_29_1.csv')\n",
    "df_test = pd.read_csv('data/test_29_1.csv')\n",
    "\n",
    "#checking for the NANs\n",
    "print('Number of NAN per feature in df_train: \\n', df_train.isnull().sum())\n",
    "print('Number of NAN per feature in df_test: \\n', df_test.isnull().sum())\n",
    "\n",
    "print('Columns in df_train: \\n', df_train.columns)\n",
    "print('Columns in df_test: \\n', df_test.columns)"
   ]
  },
  {
   "cell_type": "code",
   "execution_count": 3,
   "metadata": {},
   "outputs": [],
   "source": [
    "#X_columns = df_train.columns.remove('id', 'log_price')\n",
    "X = df_train.copy()\n",
    "y = df_train['log_price']\n",
    "del X['log_price']\n",
    "del X['id']\n",
    "\n",
    "#del X['cleaning_fee']"
   ]
  },
  {
   "cell_type": "code",
   "execution_count": 4,
   "metadata": {},
   "outputs": [
    {
     "data": {
      "text/html": [
       "<div>\n",
       "<style scoped>\n",
       "    .dataframe tbody tr th:only-of-type {\n",
       "        vertical-align: middle;\n",
       "    }\n",
       "\n",
       "    .dataframe tbody tr th {\n",
       "        vertical-align: top;\n",
       "    }\n",
       "\n",
       "    .dataframe thead th {\n",
       "        text-align: right;\n",
       "    }\n",
       "</style>\n",
       "<table border=\"1\" class=\"dataframe\">\n",
       "  <thead>\n",
       "    <tr style=\"text-align: right;\">\n",
       "      <th></th>\n",
       "      <th>accommodates</th>\n",
       "      <th>bedrooms</th>\n",
       "      <th>cleaning_fee</th>\n",
       "      <th>number_of_reviews</th>\n",
       "      <th>bathrooms</th>\n",
       "      <th>Cahuenga Pass</th>\n",
       "      <th>Williamsburg</th>\n",
       "      <th>East Harlem</th>\n",
       "      <th>U Street Corridor</th>\n",
       "      <th>Hollywood Hills</th>\n",
       "      <th>...</th>\n",
       "      <th>Camper/RV</th>\n",
       "      <th>Townhouse</th>\n",
       "      <th>Condominium</th>\n",
       "      <th>House</th>\n",
       "      <th>Other</th>\n",
       "      <th>Apartment</th>\n",
       "      <th>Boutique hotel</th>\n",
       "      <th>Bed &amp; Breakfast</th>\n",
       "      <th>Guesthouse</th>\n",
       "      <th>dist_metro</th>\n",
       "    </tr>\n",
       "  </thead>\n",
       "  <tbody>\n",
       "    <tr>\n",
       "      <th>0</th>\n",
       "      <td>2</td>\n",
       "      <td>1.0</td>\n",
       "      <td>1</td>\n",
       "      <td>17</td>\n",
       "      <td>1.5</td>\n",
       "      <td>0</td>\n",
       "      <td>0</td>\n",
       "      <td>0</td>\n",
       "      <td>0</td>\n",
       "      <td>0</td>\n",
       "      <td>...</td>\n",
       "      <td>0</td>\n",
       "      <td>0</td>\n",
       "      <td>0</td>\n",
       "      <td>1</td>\n",
       "      <td>0</td>\n",
       "      <td>0</td>\n",
       "      <td>0</td>\n",
       "      <td>0</td>\n",
       "      <td>0</td>\n",
       "      <td>0.010879</td>\n",
       "    </tr>\n",
       "    <tr>\n",
       "      <th>1</th>\n",
       "      <td>2</td>\n",
       "      <td>1.0</td>\n",
       "      <td>1</td>\n",
       "      <td>2</td>\n",
       "      <td>2.0</td>\n",
       "      <td>0</td>\n",
       "      <td>0</td>\n",
       "      <td>0</td>\n",
       "      <td>0</td>\n",
       "      <td>0</td>\n",
       "      <td>...</td>\n",
       "      <td>0</td>\n",
       "      <td>0</td>\n",
       "      <td>0</td>\n",
       "      <td>0</td>\n",
       "      <td>0</td>\n",
       "      <td>1</td>\n",
       "      <td>0</td>\n",
       "      <td>0</td>\n",
       "      <td>0</td>\n",
       "      <td>0.023517</td>\n",
       "    </tr>\n",
       "    <tr>\n",
       "      <th>2</th>\n",
       "      <td>5</td>\n",
       "      <td>2.0</td>\n",
       "      <td>1</td>\n",
       "      <td>25</td>\n",
       "      <td>1.0</td>\n",
       "      <td>0</td>\n",
       "      <td>0</td>\n",
       "      <td>0</td>\n",
       "      <td>0</td>\n",
       "      <td>0</td>\n",
       "      <td>...</td>\n",
       "      <td>0</td>\n",
       "      <td>0</td>\n",
       "      <td>0</td>\n",
       "      <td>0</td>\n",
       "      <td>0</td>\n",
       "      <td>1</td>\n",
       "      <td>0</td>\n",
       "      <td>0</td>\n",
       "      <td>0</td>\n",
       "      <td>0.078890</td>\n",
       "    </tr>\n",
       "    <tr>\n",
       "      <th>3</th>\n",
       "      <td>6</td>\n",
       "      <td>1.0</td>\n",
       "      <td>1</td>\n",
       "      <td>12</td>\n",
       "      <td>1.0</td>\n",
       "      <td>0</td>\n",
       "      <td>0</td>\n",
       "      <td>0</td>\n",
       "      <td>0</td>\n",
       "      <td>0</td>\n",
       "      <td>...</td>\n",
       "      <td>0</td>\n",
       "      <td>0</td>\n",
       "      <td>0</td>\n",
       "      <td>0</td>\n",
       "      <td>0</td>\n",
       "      <td>1</td>\n",
       "      <td>0</td>\n",
       "      <td>0</td>\n",
       "      <td>0</td>\n",
       "      <td>0.012907</td>\n",
       "    </tr>\n",
       "    <tr>\n",
       "      <th>4</th>\n",
       "      <td>6</td>\n",
       "      <td>2.0</td>\n",
       "      <td>1</td>\n",
       "      <td>71</td>\n",
       "      <td>1.0</td>\n",
       "      <td>0</td>\n",
       "      <td>0</td>\n",
       "      <td>0</td>\n",
       "      <td>0</td>\n",
       "      <td>0</td>\n",
       "      <td>...</td>\n",
       "      <td>0</td>\n",
       "      <td>0</td>\n",
       "      <td>0</td>\n",
       "      <td>0</td>\n",
       "      <td>0</td>\n",
       "      <td>1</td>\n",
       "      <td>0</td>\n",
       "      <td>0</td>\n",
       "      <td>0</td>\n",
       "      <td>0.071024</td>\n",
       "    </tr>\n",
       "  </tbody>\n",
       "</table>\n",
       "<p>5 rows × 320 columns</p>\n",
       "</div>"
      ],
      "text/plain": [
       "   accommodates  bedrooms  cleaning_fee  number_of_reviews  bathrooms  \\\n",
       "0             2       1.0             1                 17        1.5   \n",
       "1             2       1.0             1                  2        2.0   \n",
       "2             5       2.0             1                 25        1.0   \n",
       "3             6       1.0             1                 12        1.0   \n",
       "4             6       2.0             1                 71        1.0   \n",
       "\n",
       "   Cahuenga Pass  Williamsburg  East Harlem  U Street Corridor  \\\n",
       "0              0             0            0                  0   \n",
       "1              0             0            0                  0   \n",
       "2              0             0            0                  0   \n",
       "3              0             0            0                  0   \n",
       "4              0             0            0                  0   \n",
       "\n",
       "   Hollywood Hills     ...      Camper/RV  Townhouse  Condominium  House  \\\n",
       "0                0     ...              0          0            0      1   \n",
       "1                0     ...              0          0            0      0   \n",
       "2                0     ...              0          0            0      0   \n",
       "3                0     ...              0          0            0      0   \n",
       "4                0     ...              0          0            0      0   \n",
       "\n",
       "   Other  Apartment  Boutique hotel  Bed & Breakfast  Guesthouse  dist_metro  \n",
       "0      0          0               0                0           0    0.010879  \n",
       "1      0          1               0                0           0    0.023517  \n",
       "2      0          1               0                0           0    0.078890  \n",
       "3      0          1               0                0           0    0.012907  \n",
       "4      0          1               0                0           0    0.071024  \n",
       "\n",
       "[5 rows x 320 columns]"
      ]
     },
     "execution_count": 4,
     "metadata": {},
     "output_type": "execute_result"
    }
   ],
   "source": [
    "X.head(5)"
   ]
  },
  {
   "cell_type": "code",
   "execution_count": null,
   "metadata": {},
   "outputs": [
    {
     "data": {
      "text/plain": [
       "0        3.806662\n",
       "1        4.941642\n",
       "2        4.941642\n",
       "3        4.867534\n",
       "4        4.836282\n",
       "5        5.220356\n",
       "6        5.686975\n",
       "7        3.555348\n",
       "8        3.555348\n",
       "9        5.652489\n",
       "10       4.442651\n",
       "11       3.931826\n",
       "12       5.010635\n",
       "13       4.605170\n",
       "14       4.094345\n",
       "15       5.342334\n",
       "16       3.688879\n",
       "17       5.298317\n",
       "18       4.595120\n",
       "19       3.871201\n",
       "20       5.010635\n",
       "21       4.077537\n",
       "22       5.700444\n",
       "23       5.521461\n",
       "24       5.521461\n",
       "25       5.170484\n",
       "26       4.605170\n",
       "27       3.912023\n",
       "28       4.744932\n",
       "29       4.382027\n",
       "           ...   \n",
       "45838    4.700480\n",
       "45839    5.857933\n",
       "45840    4.304065\n",
       "45841    3.912023\n",
       "45842    4.442651\n",
       "45843    4.343805\n",
       "45844    5.298317\n",
       "45845    4.682131\n",
       "45846    3.688879\n",
       "45847    4.595120\n",
       "45848    4.700480\n",
       "45849    5.978886\n",
       "45850    3.912023\n",
       "45851    5.393628\n",
       "45852    4.317488\n",
       "45853    5.662960\n",
       "45854    4.828314\n",
       "45855    5.298317\n",
       "45856    3.806662\n",
       "45857    6.363028\n",
       "45858    4.941642\n",
       "45859    3.637586\n",
       "45860    4.382027\n",
       "45861    5.298317\n",
       "45862    5.857933\n",
       "45863    3.663562\n",
       "45864    4.382027\n",
       "45865    4.605170\n",
       "45866    3.912023\n",
       "45867    3.912023\n",
       "Name: log_price, Length: 45868, dtype: float64"
      ]
     },
     "execution_count": 5,
     "metadata": {},
     "output_type": "execute_result"
    }
   ],
   "source": [
    "y"
   ]
  },
  {
   "cell_type": "markdown",
   "metadata": {},
   "source": [
    "# Model Training"
   ]
  },
  {
   "cell_type": "code",
   "execution_count": null,
   "metadata": {},
   "outputs": [
    {
     "name": "stdout",
     "output_type": "stream",
     "text": [
      "   accommodates  bedrooms  cleaning_fee  number_of_reviews  bathrooms  \\\n",
      "0             2       1.0             1                 17        1.5   \n",
      "1             2       1.0             1                  2        2.0   \n",
      "2             5       2.0             1                 25        1.0   \n",
      "3             6       1.0             1                 12        1.0   \n",
      "4             6       2.0             1                 71        1.0   \n",
      "\n",
      "   Cahuenga Pass  Williamsburg  East Harlem  U Street Corridor  \\\n",
      "0              0             0            0                  0   \n",
      "1              0             0            0                  0   \n",
      "2              0             0            0                  0   \n",
      "3              0             0            0                  0   \n",
      "4              0             0            0                  0   \n",
      "\n",
      "   Hollywood Hills     ...      Camper/RV  Townhouse  Condominium  House  \\\n",
      "0                0     ...              0          0            0      1   \n",
      "1                0     ...              0          0            0      0   \n",
      "2                0     ...              0          0            0      0   \n",
      "3                0     ...              0          0            0      0   \n",
      "4                0     ...              0          0            0      0   \n",
      "\n",
      "   Other  Apartment  Boutique hotel  Bed & Breakfast  Guesthouse  dist_metro  \n",
      "0      0          0               0                0           0    0.010879  \n",
      "1      0          1               0                0           0    0.023517  \n",
      "2      0          1               0                0           0    0.078890  \n",
      "3      0          1               0                0           0    0.012907  \n",
      "4      0          1               0                0           0    0.071024  \n",
      "\n",
      "[5 rows x 320 columns]\n",
      "X_train (36694, 320)\n",
      "y_train (36694,)\n",
      "X_test (9174, 320)\n",
      "y_test (9174,)\n"
     ]
    }
   ],
   "source": [
    "# split the data using sklearn\n",
    "#X = pd.DataFrame(normalize(X, axis=0))\n",
    "print(X.head(5))\n",
    "\n",
    "threshold = 0.8\n",
    "X_train, X_test, y_train, y_test = train_test_split(X, y, test_size=1.0-threshold, shuffle=True)\n",
    "\n",
    "print('X_train', X_train.shape)\n",
    "print('y_train', y_train.shape)\n",
    "print('X_test', X_test.shape)\n",
    "print('y_test', y_test.shape)"
   ]
  },
  {
   "cell_type": "markdown",
   "metadata": {},
   "source": [
    "# Model Evaluation"
   ]
  },
  {
   "cell_type": "code",
   "execution_count": null,
   "metadata": {},
   "outputs": [
    {
     "name": "stdout",
     "output_type": "stream",
     "text": [
      "MODEL RandomForestRegressor\n"
     ]
    }
   ],
   "source": [
    "models = [ ('RandomForestRegressor', RandomForestRegressor(n_estimators=300, n_jobs=-1)),\n",
    "           # ('Ridge Regressor', Ridge(alpha=1.0, copy_X=True, fit_intercept=True, max_iter=None, normalize=False, random_state=None, solver='auto', tol=0.001))\n",
    "]\n",
    "#('GradientBoosting', GradientBoostingRegressor()),\n",
    "#('LinearRegression', LinearRegression()),\n",
    "#('LassoRegressor', Lasso(alpha=0.1)),\n",
    "#('RandomForestRegressor10', RandomForestRegressor(n_estimators=10)),\n",
    "#('DecisionTreeRegressor', DecisionTreeRegressor())\n",
    "#('KNeighborsRegressor', KNeighborsRegressor(5))\n",
    "\n",
    "#('SVMRegressor', SVR()), - Slow - check the optimal C (find the function)\n",
    "#('GaussianRegressor',GaussianProcessRegressor()),\n",
    "#('SGDRegressor', SGDRegressor(), - bad results, check the parameters\n",
    "\n",
    "k = 10\n",
    "results = {}\n",
    "for m in models:\n",
    "    print('MODEL', m[0])\n",
    "    results[m[0]] = {'mae':[], 'rmse':[]}\n",
    "    kf = KFold(n_splits=k)\n",
    "    for train_index, test_index in kf.split(X):\n",
    "        X_train_k, X_test_k = X.values[train_index], X.values[test_index]\n",
    "        y_train_k, y_test_k = y.values[train_index], y.values[test_index]\n",
    "        model = m[1]\n",
    "        model.fit(X_train_k, y_train_k.ravel())\n",
    "        y_pred = model.predict(X_test_k)\n",
    "        mae = mean_absolute_error(y_test_k, y_pred)\n",
    "        rmse = np.sqrt(mean_squared_error(y_test_k, y_pred))\n",
    "        results[m[0]]['mae'].append(mae)\n",
    "        results[m[0]]['rmse'].append(rmse)\n",
    "    "
   ]
  },
  {
   "cell_type": "code",
   "execution_count": null,
   "metadata": {
    "scrolled": false
   },
   "outputs": [
    {
     "data": {
      "image/png": "[encoded data removed]",
      "text/plain": [
       "<Figure size 864x432 with 1 Axes>"
      ]
     },
     "metadata": {
      "needs_background": "light"
     },
     "output_type": "display_data"
    },
    {
     "data": {
      "image/png": "[encoded data removed]",
      "text/plain": [
       "<Figure size 864x432 with 1 Axes>"
      ]
     },
     "metadata": {
      "needs_background": "light"
     },
     "output_type": "display_data"
    }
   ],
   "source": [
    "for metric in ['mae', 'rmse']:\n",
    "    values = []\n",
    "    labels = []\n",
    "    for model, result_values in results.items():\n",
    "        for m, v in result_values.items():\n",
    "            if m == metric:\n",
    "                labels.append(model)\n",
    "                values.append(v)\n",
    "    plt.figure(figsize=(12,6))\n",
    "    plt.title(metric)\n",
    "    plt.boxplot(values)\n",
    "    plt.xticks(range(1, len(labels)+1), labels, rotation='horizontal')\n",
    "    plt.show()"
   ]
  },
  {
   "cell_type": "markdown",
   "metadata": {},
   "source": [
    "# Finding the best parameters"
   ]
  },
  {
   "cell_type": "code",
   "execution_count": null,
   "metadata": {},
   "outputs": [],
   "source": [
    "# #('SGDRegressor', SGDRegressor(), - bad results, check the parameters\n",
    "# from sklearn.model_selection import cross_val_score\n",
    "\n",
    "# print(len(n_range))\n",
    "# k = 10\n",
    "# results = []\n",
    "# n_range=range(10,300,50)\n",
    "# #n_range = 10.**np.linspace(-10, 5, 10)\n",
    "# for n in n_range:\n",
    "#     model = RandomForestRegressor(n_estimators=n, n_jobs=-1)\n",
    "#     scores = cross_val_score(model, X, y, cv=10)\n",
    "#     results.append(np.mean(scores))\n",
    "# print('cross_val_score', np.mean(scores))"
   ]
  },
  {
   "cell_type": "code",
   "execution_count": null,
   "metadata": {},
   "outputs": [],
   "source": [
    "# plt.plot(n_range,results)\n",
    "# plt.xlabel('n_estimators')\n",
    "# plt.ylabel('cross val score')"
   ]
  },
  {
   "cell_type": "markdown",
   "metadata": {},
   "source": [
    "### Grid Search"
   ]
  },
  {
   "cell_type": "code",
   "execution_count": null,
   "metadata": {
    "scrolled": false
   },
   "outputs": [],
   "source": [
    "# from sklearn.model_selection import GridSearchCV\n",
    "# # Create the parameter grid based on the results of random search \n",
    "# param_grid = {\n",
    "# #    'bootstrap': [True],\n",
    "# #    'max_depth': [80, 90, 100, 110],\n",
    "# #    'max_features': [2, 3],\n",
    "# #    'min_samples_leaf': [3, 4, 5],\n",
    "# #    'min_samples_split': [8, 10, 12],\n",
    "# #    'n_estimators': [100, 200, 300]\n",
    "#      'alpha': 10.**np.linspace(-10, 5, 10),\n",
    "# }\n",
    "# # Create a based model\n",
    "# rf = RandomForestRegressor()\n",
    "# rdg = Ridge()\n",
    "#  # Instantiate the grid search model  param_grid = param_grid, \n",
    "# grid_search = GridSearchCV(estimator = rdg, param_grid = param_grid, cv = 3, n_jobs = -1, verbose = 2)\n",
    "# grid_search.fit(X_train, y_train)\n",
    "# grid_search.best_params_\n",
    "# grid_search.best_score_\n",
    "# grid_search.best_estimator_"
   ]
  },
  {
   "cell_type": "code",
   "execution_count": null,
   "metadata": {},
   "outputs": [],
   "source": [
    "# grid_search.best_params_"
   ]
  },
  {
   "cell_type": "code",
   "execution_count": null,
   "metadata": {},
   "outputs": [],
   "source": [
    "# grid_search.best_score_"
   ]
  },
  {
   "cell_type": "markdown",
   "metadata": {},
   "source": [
    "### Checking one model"
   ]
  },
  {
   "cell_type": "code",
   "execution_count": null,
   "metadata": {},
   "outputs": [],
   "source": [
    "# train a best model\n",
    "model = RandomForestRegressor(n_estimators=300)\n",
    "model.fit(X_train, y_train)\n",
    "y_pred = model.predict(X_test)\n",
    "\n",
    "rmse = np.sqrt(mean_squared_error(y_test, y_pred))\n",
    "print('RMSE', round(rmse, 4))\n",
    "plt.scatter(y_test, y_pred, alpha=0.3)\n",
    "plt.plot(range(0,10), range(0,10), '--r', alpha=0.3, label='Line1')\n",
    "plt.title('Gradient Boosting Regression')\n",
    "plt.xlabel('True Value')\n",
    "plt.ylabel('Predict Value')\n",
    "plt.show()\n"
   ]
  },
  {
   "cell_type": "code",
   "execution_count": null,
   "metadata": {},
   "outputs": [],
   "source": [
    "# from sklearn.metrics import roc_auc_score\n",
    "\n",
    "# X_test[\"pred\"] = model.predict_proba(X_test)\n",
    "\n",
    "# print(\"Validation score:\", roc_auc_score(y_test, y_pred))"
   ]
  },
  {
   "cell_type": "markdown",
   "metadata": {},
   "source": []
  },
  {
   "cell_type": "code",
   "execution_count": null,
   "metadata": {},
   "outputs": [],
   "source": [
    "# "
   ]
  },
  {
   "cell_type": "markdown",
   "metadata": {},
   "source": [
    "### Feature importance"
   ]
  },
  {
   "cell_type": "code",
   "execution_count": null,
   "metadata": {},
   "outputs": [],
   "source": [
    "#for i in range(len(X_test.columns)):\n",
    "fi = []\n",
    "for i, col in enumerate(X_test.columns):\n",
    "    fi.append([col, model.feature_importances_[i]])\n"
   ]
  },
  {
   "cell_type": "code",
   "execution_count": null,
   "metadata": {
    "scrolled": false
   },
   "outputs": [],
   "source": [
    "features = pd.DataFrame(fi).sort_values(1, ascending=False)\n",
    "print(type(features))\n",
    "print(features)\n",
    "useless = list(features.loc[features[1] < 0.00003, 0])\n",
    "print(useless)"
   ]
  },
  {
   "cell_type": "markdown",
   "metadata": {},
   "source": [
    "### Removing useless features and restarting the prediction"
   ]
  },
  {
   "cell_type": "code",
   "execution_count": null,
   "metadata": {},
   "outputs": [],
   "source": [
    "# useless_list = list(useless)\n",
    "# useless_list\n",
    "# for i in range(len(useless_list)):\n",
    "#     del X_train[useless_list[i]]\n",
    "#     del X_test[useless_list[i]]\n",
    "#     del df_test[useless_list[i]]\n",
    "# # train a best model\n",
    "# model = RandomForestRegressor(n_estimators=300)\n",
    "# model.fit(X_train, y_train)\n",
    "# y_pred = model.predict(X_test)\n",
    "\n",
    "# rmse = np.sqrt(mean_squared_error(y_test, y_pred))\n",
    "# print('RMSE', round(rmse, 4))\n",
    "# plt.scatter(y_test, y_pred, alpha=0.3)\n",
    "# plt.plot(range(0,10), range(0,10), '--r', alpha=0.3, label='Line1')\n",
    "# plt.title('Gradient Boosting Regression')\n",
    "# plt.xlabel('True Value')\n",
    "# plt.ylabel('Predict Value')\n",
    "# plt.show()"
   ]
  },
  {
   "cell_type": "markdown",
   "metadata": {},
   "source": [
    "### Error Analysis"
   ]
  },
  {
   "cell_type": "code",
   "execution_count": null,
   "metadata": {},
   "outputs": [],
   "source": [
    "df_new = pd.DataFrame(X_test).copy()\n",
    "print(df_new.count())\n",
    "print(len(y_pred))\n",
    "df_new['log_price'] = y_test\n",
    "df_new['prediction'] = y_pred\n",
    "df_new['abs_error'] = abs(df_new['log_price']-df_new['prediction'])\n",
    "df_new.sort_values(by='abs_error', ascending=False).round()\n",
    "print(df_new.head())"
   ]
  },
  {
   "cell_type": "code",
   "execution_count": null,
   "metadata": {},
   "outputs": [],
   "source": [
    "df_error = df_new[df_new['abs_error']>1]\n",
    "#df_error.groupby()\n",
    "df_error.corr()['abs_error'].dropna().sort_values()"
   ]
  },
  {
   "cell_type": "markdown",
   "metadata": {},
   "source": [
    "# Prepare submission"
   ]
  },
  {
   "cell_type": "code",
   "execution_count": null,
   "metadata": {},
   "outputs": [],
   "source": [
    "# print(df_test.columns)\n",
    "# print(df_test['id'].count())"
   ]
  },
  {
   "cell_type": "code",
   "execution_count": null,
   "metadata": {},
   "outputs": [],
   "source": [
    "# df_prediction = df_test.fillna(0.0)\n",
    "# del df_prediction['id']\n",
    "# #del df_prediction['cleaning_fee']\n",
    "# print(df_prediction.columns)\n",
    "# #df_prediction = pd.DataFrame(normalize(df_prediction, axis=0))\n",
    "\n",
    "# df_test['log_price'] = model.predict(df_prediction)\n",
    "# df_test[['id', 'log_price']]"
   ]
  },
  {
   "cell_type": "code",
   "execution_count": null,
   "metadata": {},
   "outputs": [],
   "source": [
    "# df_test[['id', 'log_price']].to_csv('submission_8.csv', index=False)"
   ]
  },
  {
   "cell_type": "code",
   "execution_count": null,
   "metadata": {},
   "outputs": [],
   "source": []
  },
  {
   "cell_type": "code",
   "execution_count": null,
   "metadata": {},
   "outputs": [],
   "source": []
  }
 ],
 "metadata": {
  "kernelspec": {
   "display_name": "Python 3",
   "language": "python",
   "name": "python3"
  },
  "language_info": {
   "codemirror_mode": {
    "name": "ipython",
    "version": 3
   },
   "file_extension": ".py",
   "mimetype": "text/x-python",
   "name": "python",
   "nbconvert_exporter": "python",
   "pygments_lexer": "ipython3",
   "version": "3.6.0"
  }
 },
 "nbformat": 4,
 "nbformat_minor": 2
}
